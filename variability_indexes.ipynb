{
 "cells": [
  {
   "cell_type": "code",
   "execution_count": null,
   "id": "2b4caae4",
   "metadata": {},
   "outputs": [],
   "source": [
    "import sys\n",
    "sys.path.append('/Users/marie/Documents/Research/sge/Julia/VariabilityIndexes')\n",
    "import os\n",
    "import pandas as pd\n",
    "import numpy as np\n",
    "import matplotlib.pyplot as plt\n",
    "from variability.lightcurve import LightCurve\n",
    "from variability.indexes import VariabilityIndex\n",
    "from lc_functions import stats_lightcurves, get_varindexes\n",
    "from tqdm import tqdm\n"
   ]
  },
  {
   "cell_type": "code",
   "execution_count": null,
   "id": "bc62b534",
   "metadata": {},
   "outputs": [],
   "source": [
    "folder = \"/Users/marie/Documents/Research/sge/CygOB2 - DATA/UKIRT2007/teste/\"\n",
    "\n",
    "get_varindexes(\n",
    "    folder=folder,\n",
    "    filter='J',\n",
    "    ra='RA',\n",
    "    dec='DEC', \n",
    "    time='HJD',\n",
    "    mag='MAG_AUTO',\n",
    "    err='MAGERR_AUTO'\n",
    ")"
   ]
  },
  {
   "cell_type": "code",
   "execution_count": null,
   "id": "7d43ed97",
   "metadata": {},
   "outputs": [],
   "source": []
  }
 ],
 "metadata": {
  "kernelspec": {
   "display_name": "lc-env",
   "language": "python",
   "name": "python3"
  },
  "language_info": {
   "codemirror_mode": {
    "name": "ipython",
    "version": 3
   },
   "file_extension": ".py",
   "mimetype": "text/x-python",
   "name": "python",
   "nbconvert_exporter": "python",
   "pygments_lexer": "ipython3",
   "version": "3.11.13"
  }
 },
 "nbformat": 4,
 "nbformat_minor": 5
}
