{
 "cells": [
  {
   "cell_type": "code",
   "execution_count": 1,
   "id": "c30af47b",
   "metadata": {},
   "outputs": [],
   "source": [
    "import sys\n",
    "sys.path.append('/Users/marie/Documents/Research/sge/Julia/VariabilityIndexes')\n",
    "import os\n",
    "import pandas as pd\n",
    "import numpy as np\n",
    "import matplotlib.pyplot as plt\n",
    "from variability.lightcurve import LightCurve\n",
    "from lc_functions import  clean_light_curves\n",
    "from tqdm import tqdm\n",
    "import seaborn as sns\n",
    "from scipy import interpolate"
   ]
  },
  {
   "cell_type": "code",
   "execution_count": 2,
   "id": "cab90ba1",
   "metadata": {},
   "outputs": [],
   "source": [
    "bad_hjds_list = np.load('/Users/marie/Documents/Research/sge/CygOB2 - DATA/UKIRT2007/J_hjdsremoved.npy', allow_pickle=True).tolist()"
   ]
  },
  {
   "cell_type": "code",
   "execution_count": null,
   "id": "c70e9de9",
   "metadata": {},
   "outputs": [
    {
     "name": "stderr",
     "output_type": "stream",
     "text": [
      "Processando arquivos: 100%|██████████| 1/1 [00:00<00:00,  8.33it/s]"
     ]
    },
    {
     "name": "stdout",
     "output_type": "stream",
     "text": [
      "Processadas: 1 arquivos\n",
      "Curvas de luz limpas: 1\n",
      "Linhas removidas: 1\n"
     ]
    },
    {
     "name": "stderr",
     "output_type": "stream",
     "text": [
      "\n"
     ]
    }
   ],
   "source": [
    "if __name__ == \"__main__\":\n",
    "    input_dir = '/Users/marie/Documents/Research/sge/CygOB2 - DATA/UKIRT2007/teste/'\n",
    "    output_dir = '/Users/marie/Documents/Research/sge/CygOB2 - DATA/UKIRT2007/clean_lc/'\n",
    "\n",
    "    resultados = clean_light_curves(input_dir, output_dir, bad_hjds_list)\n",
    "    \n",
    "    print(f\"Processadas: {resultados['processed']} arquivos\")\n",
    "    print(f\"Curvas de luz limpas: {resultados['cleaned']}\")"
   ]
  }
 ],
 "metadata": {
  "kernelspec": {
   "display_name": "lc-env",
   "language": "python",
   "name": "python3"
  },
  "language_info": {
   "codemirror_mode": {
    "name": "ipython",
    "version": 3
   },
   "file_extension": ".py",
   "mimetype": "text/x-python",
   "name": "python",
   "nbconvert_exporter": "python",
   "pygments_lexer": "ipython3",
   "version": "3.11.13"
  }
 },
 "nbformat": 4,
 "nbformat_minor": 5
}
