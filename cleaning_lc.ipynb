{
 "cells": [
  {
   "cell_type": "code",
   "execution_count": 2,
   "id": "c30af47b",
   "metadata": {},
   "outputs": [],
   "source": [
    "import sys\n",
    "sys.path.append('/Users/marie/Documents/Research/sge/Julia/VariabilityIndexes')\n",
    "import os\n",
    "import pandas as pd\n",
    "import numpy as np\n",
    "import matplotlib.pyplot as plt\n",
    "from variability.lightcurve import LightCurve\n",
    "from lc_functions import  clean_light_curves\n",
    "from tqdm import tqdm\n",
    "import seaborn as sns\n",
    "from scipy import interpolate"
   ]
  },
  {
   "cell_type": "code",
   "execution_count": 3,
   "id": "79fa12c4",
   "metadata": {},
   "outputs": [],
   "source": [
    "bad_hjds_list_J = np.load('/Users/marie/Documents/Research/sge/CygOB2 - DATA/UKIRT2007/J_hjdsremoved.npy', allow_pickle=True)\n",
    "bad_hjds_list_H = np.load('/Users/marie/Documents/Research/sge/CygOB2 - DATA/UKIRT2007/H_hjdsremoved.npy', allow_pickle=True)\n",
    "bad_hjds_list_K= np.load('/Users/marie/Documents/Research/sge/CygOB2 - DATA/UKIRT2007/K_hjdsremoved.npy', allow_pickle=True)\n"
   ]
  },
  {
   "cell_type": "code",
   "execution_count": 5,
   "id": "9afdbb4d",
   "metadata": {},
   "outputs": [
    {
     "name": "stdout",
     "output_type": "stream",
     "text": [
      "[54208.55255 54383.23101 54388.20301 54388.20524 54388.20412]\n",
      "[54388.23896 54240.62712 54388.24007]\n",
      "[54388.24275 54240.63077 54240.63293 54388.2461  54388.24499]\n"
     ]
    }
   ],
   "source": [
    "print(bad_hjds_list_J)\n",
    "print(bad_hjds_list_H)\n",
    "print(bad_hjds_list_K)"
   ]
  },
  {
   "cell_type": "code",
   "execution_count": 7,
   "id": "cab90ba1",
   "metadata": {},
   "outputs": [
    {
     "data": {
      "text/plain": [
       "array([54208.55255, 54383.23101, 54388.20301, 54388.20524, 54388.20412,\n",
       "       54388.23896, 54240.62712, 54388.24007, 54388.24275, 54240.63077,\n",
       "       54240.63293, 54388.2461 , 54388.24499])"
      ]
     },
     "execution_count": 7,
     "metadata": {},
     "output_type": "execute_result"
    }
   ],
   "source": [
    "bad_hjds_list = np.concatenate((bad_hjds_list_J, bad_hjds_list_H, bad_hjds_list_K))\n",
    "bad_hjds_list"
   ]
  },
  {
   "cell_type": "code",
   "execution_count": 8,
   "id": "c70e9de9",
   "metadata": {},
   "outputs": [
    {
     "name": "stderr",
     "output_type": "stream",
     "text": [
      "Processando arquivos: 100%|██████████| 8/8 [00:00<00:00, 23.67it/s]\n"
     ]
    }
   ],
   "source": [
    "if __name__ == \"__main__\":\n",
    "    input_dir = '/Users/marie/Documents/Research/sge/CygOB2 - DATA/UKIRT2007/teste/'\n",
    "    output_dir = '/Users/marie/Documents/Research/sge/CygOB2 - DATA/UKIRT2007/clean_teste/'\n",
    "\n",
    "    resultados = clean_light_curves(input_dir, output_dir, bad_hjds_list)\n",
    "    "
   ]
  },
  {
   "cell_type": "code",
   "execution_count": null,
   "id": "373be248",
   "metadata": {},
   "outputs": [],
   "source": []
  }
 ],
 "metadata": {
  "kernelspec": {
   "display_name": "lc-env",
   "language": "python",
   "name": "python3"
  },
  "language_info": {
   "codemirror_mode": {
    "name": "ipython",
    "version": 3
   },
   "file_extension": ".py",
   "mimetype": "text/x-python",
   "name": "python",
   "nbconvert_exporter": "python",
   "pygments_lexer": "ipython3",
   "version": "3.11.13"
  }
 },
 "nbformat": 4,
 "nbformat_minor": 5
}
